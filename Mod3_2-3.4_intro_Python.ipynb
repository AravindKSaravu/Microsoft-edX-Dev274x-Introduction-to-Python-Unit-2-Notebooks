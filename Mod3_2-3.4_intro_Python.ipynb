{
  "cells": [
    {
      "metadata": {},
      "cell_type": "markdown",
      "source": "# 2-3.4 Intro Python\n# The Power of List Iteration\n- for in: **`for`** loop using **`in`**\n- for range: **`for range(start,stop,step)`** \n- more list methods: **`.extend()`, `+, .reverse(), .sort()`**     \n- **strings to lists,`.split()`, and list to strings, `.join()`** \n- **list cast & `print(\"hello\", end='')`**\n\n\n----- \n\n><font size=\"5\" color=\"#00A0B2\"  face=\"verdana\"> <B>Student will be able to</B></font>  \n- Iterate through Lists using **`for`** with **`in`**\n- Use **`for range()`** in looping operations  \n- Use list methods **`.extend()`, `+, .reverse(), .sort()`**  \n- **convert between lists and strings using  `.split()` and `.join()`**\n- **cast strings to lists / direct multiple print outputs to a single line**"
    },
    {
      "metadata": {},
      "cell_type": "markdown",
      "source": "# &nbsp;\n<font size=\"6\" color=\"#00A0B2\"  face=\"verdana\"> <B>Concepts</B></font>\n## Converting a string to a list with `.split()`\n[![view video](https://iajupyterprodblobs.blob.core.windows.net/imagecontainer/common/play_video.png)]( http://edxinteractivepage.blob.core.windows.net/edxpages/f7cff1a7-5601-48a1-95a6-fd1fdfabd20e.html?details=[{\"src\":\"http://jupyternootbookwams.streaming.mediaservices.windows.net/1a076a9c-842f-455f-91bf-48db837842e8/Unit2_Section3.4a-Split_on_Breaks.ism/manifest\",\"type\":\"application/vnd.ms-sstr+xml\"}],[{\"src\":\"http://jupyternootbookwams.streaming.mediaservices.windows.net/1a076a9c-842f-455f-91bf-48db837842e8/Unit2_Section3.4a-Split_on_Breaks.vtt\",\"srclang\":\"en\",\"kind\":\"subtitles\",\"label\":\"english\"}])\n### `.split()`  by default, splits a string at spaces (\" \") to create a list\n```python\ntip = \"Notebooks can be exported as .pdf\"\ntip_words = tip.split()\n\nfor word in tip_words:\n    print(word)\n```"
    },
    {
      "metadata": {},
      "cell_type": "markdown",
      "source": "# &nbsp;\n<font size=\"6\" color=\"#00A0B2\"  face=\"verdana\"> <B>Examples</B></font>"
    },
    {
      "metadata": {
        "trusted": true
      },
      "cell_type": "code",
      "source": "# [ ] review and run example\ntip = \"Notebooks can be exported as .pdf\"\ntip_words = tip.split()\n\nprint(\"STRING:\", tip)\nprint(\"LIST:\", tip_words, \"\\n\")\n\nfor word in tip_words:\n    print(word)",
      "execution_count": 1,
      "outputs": [
        {
          "output_type": "stream",
          "text": "STRING: Notebooks can be exported as .pdf\nLIST: ['Notebooks', 'can', 'be', 'exported', 'as', '.pdf'] \n\nNotebooks\ncan\nbe\nexported\nas\n.pdf\n",
          "name": "stdout"
        }
      ]
    },
    {
      "metadata": {
        "trusted": true
      },
      "cell_type": "code",
      "source": "# [ ] review and run example\nrhyme = \"London bridge is falling down\"\n\nrhyme_words = rhyme.split()\n\nrhyme_words.reverse()\n\nfor word in rhyme_words:\n    print(word)",
      "execution_count": 2,
      "outputs": [
        {
          "output_type": "stream",
          "text": "down\nfalling\nis\nbridge\nLondon\n",
          "name": "stdout"
        }
      ]
    },
    {
      "metadata": {
        "collapsed": true
      },
      "cell_type": "markdown",
      "source": "# &nbsp;\n<font size=\"6\" color=\"#B24C00\"  face=\"verdana\"> <B>Task 1</B></font>\n\n### using `.split()`"
    },
    {
      "metadata": {
        "trusted": false
      },
      "cell_type": "code",
      "source": "# [ ] split the string(rhyme) into a list of words (rhyme_words)\n# [ ] print each word on it's own line\nrhyme = 'Jack and Jill went up the hill To fetch a pail of water'\nrhyme_words = rhyme.split()\nfor a in rhyme_words:\n    print(a)",
      "execution_count": null,
      "outputs": []
    },
    {
      "metadata": {
        "trusted": true
      },
      "cell_type": "code",
      "source": "# [ ] split code_tip into a list and print the first and every other word\ncode_tip = \"Python uses spaces for indentation\"\na = code_tip.split()\nprint(a[0:-1:2])",
      "execution_count": 3,
      "outputs": [
        {
          "output_type": "stream",
          "text": "['Python', 'spaces']\n",
          "name": "stdout"
        }
      ]
    },
    {
      "metadata": {},
      "cell_type": "markdown",
      "source": "# &nbsp;\n<font size=\"6\" color=\"#00A0B2\"  face=\"verdana\"> <B>Concepts</B></font>\n## `.split('-')`\n[![view video](https://iajupyterprodblobs.blob.core.windows.net/imagecontainer/common/play_video.png)]( http://edxinteractivepage.blob.core.windows.net/edxpages/f7cff1a7-5601-48a1-95a6-fd1fdfabd20e.html?details=[{\"src\":\"http://jupyternootbookwams.streaming.mediaservices.windows.net/55d37e65-fb49-4bf5-87f8-fb987d3ce7a4/Unit2_Section3.4b-Split_on_Strings.ism/manifest\",\"type\":\"application/vnd.ms-sstr+xml\"}],[{\"src\":\"http://jupyternootbookwams.streaming.mediaservices.windows.net/55d37e65-fb49-4bf5-87f8-fb987d3ce7a4/Unit2_Section3.4b-Split_on_Strings.vtt\",\"srclang\":\"en\",\"kind\":\"subtitles\",\"label\":\"english\"}])\n### to split on characters other than \" \" (space), provide `.split()` a string argument to use as break points\n```python \ncode_tip = \"Python-uses-spaces-for-indentation\"\ntip_words = code_tip.split('-')\n```"
    },
    {
      "metadata": {},
      "cell_type": "markdown",
      "source": "### &nbsp;\n<font size=\"6\" color=\"#00A0B2\"  face=\"verdana\"> <B>Examples</B></font>  \n### `.split('-') : split with an argument"
    },
    {
      "metadata": {
        "trusted": true
      },
      "cell_type": "code",
      "source": "# [ ] review and run example\ncode_tip = \"Python-uses-spaces-for-indentation\"\ntip_words = code_tip.split('-')\n\nprint(tip_words)",
      "execution_count": 4,
      "outputs": [
        {
          "output_type": "stream",
          "text": "['Python', 'uses', 'spaces', 'for', 'indentation']\n",
          "name": "stdout"
        }
      ]
    },
    {
      "metadata": {
        "trusted": true
      },
      "cell_type": "code",
      "source": "# [ ] review and run example - study the list print output\ncode_tip = \"Python uses spaces for indentation\"\n\n# split on \"a\"\ntip_words = code_tip.split('a')\nprint(code_tip)\nprint(tip_words)",
      "execution_count": 5,
      "outputs": [
        {
          "output_type": "stream",
          "text": "Python uses spaces for indentation\n['Python uses sp', 'ces for indent', 'tion']\n",
          "name": "stdout"
        }
      ]
    },
    {
      "metadata": {
        "trusted": true
      },
      "cell_type": "code",
      "source": "# [ ] review and run example\n# triple quotes ''' ''' preserve formatting such as spaces and line breaks\nbig_quote = \"\"\"Jack and Jill went up the hill\nTo fetch a pail of water\nJack fell down and broke his crown\nAnd Jill came tumbling after\"\"\"\n\n# split on line breaks (\\n)\nquote_lines = big_quote.split('\\n')\nprint(quote_lines, '\\n')\n\n# print the list in reverse with index slicing\nfor line in quote_lines[::-1]:\n    print(line)\n",
      "execution_count": 6,
      "outputs": [
        {
          "output_type": "stream",
          "text": "['Jack and Jill went up the hill', 'To fetch a pail of water', 'Jack fell down and broke his crown', 'And Jill came tumbling after'] \n\nAnd Jill came tumbling after\nJack fell down and broke his crown\nTo fetch a pail of water\nJack and Jill went up the hill\n",
          "name": "stdout"
        }
      ]
    },
    {
      "metadata": {
        "collapsed": true
      },
      "cell_type": "markdown",
      "source": "# &nbsp;\n<font size=\"6\" color=\"#B24C00\"  face=\"verdana\"> <B>Task 2</B></font>\n\n## `.split()`"
    },
    {
      "metadata": {
        "trusted": true
      },
      "cell_type": "code",
      "source": "# [ ] split poem into a list of phrases by splitting on \"*\" a\n# [ ] print each phrase on a new line in title case\npoem = \"Write code frequently*Save code frequently*Comment code frequently*Study code frequently*\"\nphrase = poem.split(\"*\")\nfor a in phrase:\n    print(a)",
      "execution_count": 7,
      "outputs": [
        {
          "output_type": "stream",
          "text": "Write code frequently\nSave code frequently\nComment code frequently\nStudy code frequently\n\n",
          "name": "stdout"
        }
      ]
    },
    {
      "metadata": {},
      "cell_type": "markdown",
      "source": "# &nbsp;\n<font size=\"6\" color=\"#00A0B2\"  face=\"verdana\"> <B>Concepts</B></font>  \n\n## `.join()` &nbsp; build a string from a list\n[![view video](https://iajupyterprodblobs.blob.core.windows.net/imagecontainer/common/play_video.png)]( http://edxinteractivepage.blob.core.windows.net/edxpages/f7cff1a7-5601-48a1-95a6-fd1fdfabd20e.html?details=[{\"src\":\"http://jupyternootbookwams.streaming.mediaservices.windows.net/57decc97-801f-4f7e-8ab6-69a47cf1be7b/Unit2_Section3.4c-Build_using_Join_Sequence.ism/manifest\",\"type\":\"application/vnd.ms-sstr+xml\"}],[{\"src\":\"http://jupyternootbookwams.streaming.mediaservices.windows.net/57decc97-801f-4f7e-8ab6-69a47cf1be7b/Unit2_Section3.4c-Build_using_Join_Sequence.vtt\",\"srclang\":\"en\",\"kind\":\"subtitles\",\"label\":\"english\"}])\n### `.join()` is a method applied to a separator string and iterates through its argument\n```python\ntip_words = ['Notebooks', 'can', 'be', 'exported', 'as', '.pdf'] \n\n\" \".join(tip_words)\n```\na space (\" \") is the separator that gets injected between the objects in the argument (the list \"tip_words\")"
    },
    {
      "metadata": {},
      "cell_type": "markdown",
      "source": "# &nbsp;\n<font size=\"6\" color=\"#00A0B2\"  face=\"verdana\"> <B>Examples</B></font>  \n## `.join()`"
    },
    {
      "metadata": {
        "trusted": true
      },
      "cell_type": "code",
      "source": "# [ ] review and run example\ntip_words = ['Notebooks', 'can', 'be', 'exported', 'as', '.pdf'] \n\n# join tip_words objects with spaces\nprint(\" \".join(tip_words))",
      "execution_count": 8,
      "outputs": [
        {
          "output_type": "stream",
          "text": "Notebooks can be exported as .pdf\n",
          "name": "stdout"
        }
      ]
    },
    {
      "metadata": {
        "trusted": true
      },
      "cell_type": "code",
      "source": "# [ ] review and run example\nno_space = \"\"\nletters = [\"P\", \"y\", \"t\", \"h\", \"o\", \"n\"]\nprint(no_space.join(letters))",
      "execution_count": 9,
      "outputs": [
        {
          "output_type": "stream",
          "text": "Python\n",
          "name": "stdout"
        }
      ]
    },
    {
      "metadata": {
        "trusted": true
      },
      "cell_type": "code",
      "source": "# [ ] review and run example - .join() iterates through sequences\ndash = \"-\"\nspace = \" \"\nword = \"Iteration\"\nellipises = \"...\"\n\ndash_join = dash.join(word)\nprint(dash_join)\nprint(space.join(word))\nprint(ellipises.join(word))",
      "execution_count": 10,
      "outputs": [
        {
          "output_type": "stream",
          "text": "I-t-e-r-a-t-i-o-n\nI t e r a t i o n\nI...t...e...r...a...t...i...o...n\n",
          "name": "stdout"
        }
      ]
    },
    {
      "metadata": {
        "collapsed": true
      },
      "cell_type": "markdown",
      "source": "# &nbsp;\n<font size=\"6\" color=\"#B24C00\"  face=\"verdana\"> <B>Task 3</B></font>  \n## `.join()`"
    },
    {
      "metadata": {
        "trusted": false
      },
      "cell_type": "code",
      "source": "# [ ] .join() letters list objects with an Asterisk: \"*\"\nletters = [\"A\", \"s\", \"t\", \"e\", \"r\", \"i\", \"s\", \"k\"]\na = \"*\"\nprint(a.join(letters))",
      "execution_count": null,
      "outputs": []
    },
    {
      "metadata": {
        "collapsed": true
      },
      "cell_type": "markdown",
      "source": "# &nbsp;\n<font size=\"6\" color=\"#B24C00\"  face=\"verdana\"> <B>Task 4</B></font>  \n## Program: Choose the separator\n- get user input on what to use to join words (\" \", *, -, etc...) - store in variable: separator\n- join pharse_words with the separator and print"
    },
    {
      "metadata": {
        "trusted": true
      },
      "cell_type": "code",
      "source": "# [ ] complete Choose the separator\nphrase_words = ['Jack', 'and', 'Jill', 'went', 'up', 'the', 'hill', 'To', 'fetch', 'a', 'pail', 'of', 'water']\na = input(\"What should be joined to the phrase (\" \", *, -, etc...):\")\nif a.isalpha() or a.isdigit() == True:\n    pass\nelse:\n    print(a.join(phrase_words))",
      "execution_count": 1,
      "outputs": [
        {
          "output_type": "stream",
          "name": "stdout",
          "text": "What should be joined to the phrase (, *, -, etc...):-\nJack-and-Jill-went-up-the-hill-To-fetch-a-pail-of-water\n"
        }
      ]
    },
    {
      "metadata": {},
      "cell_type": "markdown",
      "source": "# &nbsp;\n<font size=\"6\" color=\"#00A0B2\"  face=\"verdana\"> <B>Concept</B></font>\n## More Python string tools (tricks?)\n[![view video](https://iajupyterprodblobs.blob.core.windows.net/imagecontainer/common/play_video.png)]( http://edxinteractivepage.blob.core.windows.net/edxpages/f7cff1a7-5601-48a1-95a6-fd1fdfabd20e.html?details=[{\"src\":\"http://jupyternootbookwams.streaming.mediaservices.windows.net/aa6eaea3-a3cb-41d8-aee3-280d01a9f4f0/Unit2_Section3.4d-Useful_String_Tricks.ism/manifest\",\"type\":\"application/vnd.ms-sstr+xml\"}],[{\"src\":\"http://jupyternootbookwams.streaming.mediaservices.windows.net/aa6eaea3-a3cb-41d8-aee3-280d01a9f4f0/Unit2_Section3.4d-Useful_String_Tricks.vtt\",\"srclang\":\"en\",\"kind\":\"subtitles\",\"label\":\"english\"}])\n### Cast a string to a list of characters  \n```python\nhello_letters = list(\"Hello\")\n```\n### print to the same line with multiple print statements (`end=`)\nor insert any character as an end in print(\"String\", end=\"+\")\n```python\nprint('Hello', end = '')\nprint('world')\n```"
    },
    {
      "metadata": {},
      "cell_type": "markdown",
      "source": "# &nbsp;\n<font size=\"6\" color=\"#00A0B2\"  face=\"verdana\"> <B>Examples</B></font>"
    },
    {
      "metadata": {
        "trusted": true
      },
      "cell_type": "code",
      "source": "# [ ] review and run example\nhello_letters = list(\"Hello\")\nprint(hello_letters)",
      "execution_count": 1,
      "outputs": [
        {
          "output_type": "stream",
          "text": "['H', 'e', 'l', 'l', 'o']\n",
          "name": "stdout"
        }
      ]
    },
    {
      "metadata": {
        "trusted": true
      },
      "cell_type": "code",
      "source": "# [ ] review and run example\n# cast sting to list\nword_letters = list(\"concatenates\")\n\n# .join() concatenates the list\n# print on same line setting the end character\nprint('~'.join(word_letters))",
      "execution_count": 2,
      "outputs": [
        {
          "output_type": "stream",
          "text": "c~o~n~c~a~t~e~n~a~t~e~s\n",
          "name": "stdout"
        }
      ]
    },
    {
      "metadata": {
        "trusted": true
      },
      "cell_type": "code",
      "source": "# [ ] review and run example\nprint(\"Hello \", end = '')\nprint(\"world\")",
      "execution_count": 3,
      "outputs": [
        {
          "output_type": "stream",
          "text": "Hello world\n",
          "name": "stdout"
        }
      ]
    },
    {
      "metadata": {
        "trusted": true
      },
      "cell_type": "code",
      "source": "# [ ] review and run example\n# This  is the default print end\nprint(\"Hello World!\", end=\"\\n\")\nprint('still something to learn about print()')",
      "execution_count": 7,
      "outputs": [
        {
          "output_type": "stream",
          "text": "Hello World!\nstill something to learn about print()\n",
          "name": "stdout"
        }
      ]
    },
    {
      "metadata": {
        "trusted": true
      },
      "cell_type": "code",
      "source": "# [ ] review and run example\n# end inserts any valid str character: A-z, 0-9,!,@,*,\\n,\\t or ''(empty string)...\nfor letter in \"Concatenation\":\n    print(letter, end='*')",
      "execution_count": 9,
      "outputs": [
        {
          "output_type": "stream",
          "text": "C*o*n*c*a*t*e*n*a*t*i*o*n*",
          "name": "stdout"
        }
      ]
    },
    {
      "metadata": {},
      "cell_type": "markdown",
      "source": "# &nbsp;\n<font size=\"6\" color=\"#B24C00\"  face=\"verdana\"> <B>Task 5</B></font>\n## `end=\" \" ` configuration in printing\n`print('The String', end='')`"
    },
    {
      "metadata": {
        "trusted": true
      },
      "cell_type": "code",
      "source": "# [ ] use 3 print() statements to output text to one line \n# [ ] separate the lines by using \"- \" (dash space)\nprint(\"Aravind Krishna Saravu\", end = \"-\")\nprint(\"Adithya Krishna Saravu\",end=\"-\")\nprint(\"Hurrah\")",
      "execution_count": 1,
      "outputs": [
        {
          "output_type": "stream",
          "text": "Aravind Krishna Saravu-Adithya Krishna Saravu-Hurrah\n",
          "name": "stdout"
        }
      ]
    },
    {
      "metadata": {},
      "cell_type": "markdown",
      "source": "# &nbsp;\n<font size=\"6\" color=\"#B24C00\"  face=\"verdana\"> <B>Task 6</B></font>\n## cast: str to list\n`Msg_characters = list(\"Always test your code\")`"
    },
    {
      "metadata": {
        "trusted": true
      },
      "cell_type": "code",
      "source": "# [ ] create a string (fact) of 20 or more characters and cast to a list (fact_letters)\n# [ ] iterate fact, printing each char on one line, except for spaces print a new line\nfact = \"I am a hero because I am an expert in Programming Python\"\nfact.split()\nfact_letters =list(fact)\nfor char in fact:\n    if char != \" \":\n        print(char)\n    else:\n        print(\"\\n\".join(char))",
      "execution_count": 10,
      "outputs": [
        {
          "output_type": "stream",
          "text": "I\n \na\nm\n \na\n \nh\ne\nr\no\n \nb\ne\nc\na\nu\ns\ne\n \nI\n \na\nm\n \na\nn\n \ne\nx\np\ne\nr\nt\n \ni\nn\n \nP\nr\no\ng\nr\na\nm\nm\ni\nn\ng\n \nP\ny\nt\nh\no\nn\n",
          "name": "stdout"
        }
      ]
    },
    {
      "metadata": {
        "collapsed": true
      },
      "cell_type": "markdown",
      "source": "# &nbsp;  \n<font size=\"6\" color=\"#B24C00\"  face=\"verdana\"> <B>Task 7</B></font>  \n## Program: add the digits\n- create a 20 digit string, and cast to a list\n- then add all the digits as integers\n- print the equation and answer  \n\nHint: use cast to sum the digits, and .join() to create the equation (1+2+3+...)"
    },
    {
      "metadata": {
        "trusted": false
      },
      "cell_type": "code",
      "source": "# [ ] create add the digits\ndigit_string = '09876543567897654890'\ntotal =0\nfor digit in digit_string:\n    total += int(digit)\n\nprint(\"+\".join(digit_string), \"=\" , end= ' ')\nprint(total)\n\n\n#For any queries mail me at aravind.saravu@gmail.com,or follow me on twitter- @AravindKSaravu,Github-AravindKSaravu .All the Best!You can do it!",
      "execution_count": null,
      "outputs": []
    },
    {
      "metadata": {
        "collapsed": true
      },
      "cell_type": "markdown",
      "source": "[Terms of use](http://go.microsoft.com/fwlink/?LinkID=206977) &nbsp; [Privacy & cookies](https://go.microsoft.com/fwlink/?LinkId=521839) &nbsp; © 2017 Microsoft"
    }
  ],
  "metadata": {
    "anaconda-cloud": {},
    "kernelspec": {
      "name": "python3",
      "display_name": "Python 3",
      "language": "python"
    },
    "language_info": {
      "mimetype": "text/x-python",
      "nbconvert_exporter": "python",
      "name": "python",
      "pygments_lexer": "ipython3",
      "version": "3.5.4",
      "file_extension": ".py",
      "codemirror_mode": {
        "version": 3,
        "name": "ipython"
      }
    }
  },
  "nbformat": 4,
  "nbformat_minor": 1
}