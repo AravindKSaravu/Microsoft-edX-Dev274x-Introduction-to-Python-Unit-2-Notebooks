{
  "cells": [
    {
      "metadata": {},
      "cell_type": "markdown",
      "source": "# 2-3 Intro Python Practice  \n## power iteration of sequences\n\n<font size=\"5\" color=\"#00A0B2\"  face=\"verdana\"> <B>Student will be able to</B></font>  \n- Iterate through Lists using **`for`** and **`in`**\n- Use **`for` *`count`* `in range()`** in looping operations  \n- Use list methods **`.extend()`, `+, .reverse(), .sort()`**  \n- convert between lists and strings using  **`.split()`** and **`.join()`**\n- cast strings to lists **/** direct multiple print outputs to a single line.  ** `print(\"hi\", end='')`**"
    },
    {
      "metadata": {},
      "cell_type": "markdown",
      "source": "# &nbsp;\n<font size=\"6\" color=\"#B24C00\"  face=\"verdana\"> <B>Task 1</B></font>\n##  list iteration: `for in`\n### `for item in list:`"
    },
    {
      "metadata": {
        "trusted": true
      },
      "cell_type": "code",
      "source": "# [ ] print out the \"physical states of matter\" (matter_states) in 4 sentences using list iteration\n# each sentence should be of the format: \"Solid - is state of matter #1\"\nmatter_states = ['solid', 'liquid', 'gas', 'plasma']\nnum = 0\nfor a in matter_states :\n    num += 1\n    print(a.capitalize(),\"- is state of matter #\",num)",
      "execution_count": 1,
      "outputs": [
        {
          "output_type": "stream",
          "text": "Solid - is state of matter # 1\nLiquid - is state of matter # 2\nGas - is state of matter # 3\nPlasma - is state of matter # 4\n",
          "name": "stdout"
        }
      ]
    },
    {
      "metadata": {
        "trusted": false
      },
      "cell_type": "code",
      "source": "# [ ] iterate the list (birds) to see any bird names start with \"c\" and remove that item from the list\n# print the birds list before and after removals\nbirds = [\"turkey\", \"hawk\", \"chicken\", \"dove\", \"crow\"]\nbird = []\nfor bird_name in birds:\n    bird.append(bird_name)\n    if bird_name.startswith(\"c\"):\n        bird.remove(bird_name)\n    else:\n        pass\nprint(birds , \": Before \")\nprint(bird , \": After \")",
      "execution_count": null,
      "outputs": []
    },
    {
      "metadata": {
        "trusted": false
      },
      "cell_type": "code",
      "source": "# the team makes 1pt, 2pt or 3pt baskets\n# [ ] print the occurace of each type of basket(1pt, 2pt, 3pt) & total points using the list baskets\nbaskets = [2,2,2,1,2,1,3,3,1,2,2,2,2,1,3]\nprint(baskets.count(1))\nprint(baskets.count(2))\nprint(baskets.count(3))\nprint(sum(baskets))",
      "execution_count": null,
      "outputs": []
    },
    {
      "metadata": {},
      "cell_type": "markdown",
      "source": "# &nbsp;\n<font size=\"6\" color=\"#B24C00\"  face=\"verdana\"> <B>Task 2</B></font>\n##  iteration with `range(start)` & `range(start,stop)`\n"
    },
    {
      "metadata": {
        "trusted": false
      },
      "cell_type": "code",
      "source": "# [ ] using range() print \"hello\" 4 times\n\nfor a in range(0,4):\n    print(\"hello\")",
      "execution_count": null,
      "outputs": []
    },
    {
      "metadata": {
        "trusted": false
      },
      "cell_type": "code",
      "source": "# [ ] find spell_list length\n# [ ] use range() to iterate each half of spell_list\n# [ ] label & print the first and second halves\nspell_list = [\"Tuesday\", \"Wednesday\", \"February\", \"November\", \"Annual\", \"Calendar\", \"Solstice\"]\na =int(len(spell_list))\nhalf_1 = []\nhalf_2 = []\nfor half in range(0,a):\n    if half in range(0,int(a/2)):\n        half_1.append(spell_list[half])\n    else:\n        half_2.append(spell_list[half])\n\nprint(\"1st half : \",half_1)\nprint(\"2nd half : \",half_2)",
      "execution_count": null,
      "outputs": []
    },
    {
      "metadata": {
        "trusted": true
      },
      "cell_type": "code",
      "source": "# [ ] build a list of numbers from 20 to 29: twenties\n# append each number to twenties list using range(start,stop) iteration\n# [ ] print twenties\ntwenties = []\nfor a in range(20,30):\n    twenties.append(a)\nprint(twenties)",
      "execution_count": 2,
      "outputs": [
        {
          "output_type": "stream",
          "text": "[20, 21, 22, 23, 24, 25, 26, 27, 28, 29]\n",
          "name": "stdout"
        }
      ]
    },
    {
      "metadata": {
        "trusted": true
      },
      "cell_type": "code",
      "source": "# [ ] iterate through the numbers populated in the list twenties and add each number to a variable: total\n# [ ] print total\ntotal = 0\nfor a in twenties:\n    total = a+total\nprint(total)\n\n\n",
      "execution_count": 3,
      "outputs": [
        {
          "output_type": "stream",
          "text": "245\n",
          "name": "stdout"
        }
      ]
    },
    {
      "metadata": {
        "trusted": true
      },
      "cell_type": "code",
      "source": "# check your answer above using range(start,stop)\n# [ ] iterate each number from 20 to 29 using range()\n# [ ] add each number to a variable (total) to calculate the sum\n# should match earlier task \ntotal = 0\ntwenties = []\nfor a in range(20,30):\n    twenties.append(a)\nprint(twenties)\nfor a in twenties:\n    total = a+total\nprint(total)\n\n",
      "execution_count": 7,
      "outputs": [
        {
          "output_type": "stream",
          "text": "[20, 21, 22, 23, 24, 25, 26, 27, 28, 29]\n245\n",
          "name": "stdout"
        }
      ]
    },
    {
      "metadata": {},
      "cell_type": "markdown",
      "source": "# &nbsp;\n<font size=\"6\" color=\"#B24C00\"  face=\"verdana\"> <B>Task 3</B></font>\n##  iteration with `range(start:stop:skip)`\n"
    },
    {
      "metadata": {
        "trusted": false
      },
      "cell_type": "code",
      "source": "# [ ] create a list of odd numbers (odd_nums) from 1 to 25 using range(start,stop,skip)\n# [ ] print odd_nums\n# hint: odd numbers are 2 digits apart\nodd_nums = []\nodd_nums = list(range(1,26,2))\nprint(odd_nums)",
      "execution_count": null,
      "outputs": []
    },
    {
      "metadata": {
        "trusted": true
      },
      "cell_type": "code",
      "source": "# [ ] create a Decending list of odd numbers (odd_nums) from 25 to 1 using range(start,stop,skip)\n# [ ] print odd_nums,  output should resemble [25, 23, ...]\nodd_nums = []\nodd_nums = list(range(1,26,2))\nodd_nums.reverse()\nprint(odd_nums)\n\n",
      "execution_count": 9,
      "outputs": [
        {
          "output_type": "stream",
          "text": "[25, 23, 21, 19, 17, 15, 13, 11, 9, 7, 5, 3, 1]\n",
          "name": "stdout"
        }
      ]
    },
    {
      "metadata": {
        "trusted": true
      },
      "cell_type": "code",
      "source": "# the list, elements, contains the names of the first 20 elements in atomic number order\n# [ ] print the even number elements \"2 - Helium, 4 - Beryllium,..\" in the list with the atomic number\nelements = ['Hydrogen', 'Helium', 'Lithium', 'Beryllium', 'Boron', 'Carbon', 'Nitrogen', 'Oxygen', 'Fluorine', \\\n 'Neon', 'Sodium', 'Magnesium', 'Aluminum', 'Silicon', 'Phosphorus', 'Sulfur', 'Chlorine', 'Argon', \\\n 'Potassium', 'Calcium']\natomic_number = 0\nfor element in elements[1:20:2]:\n    atomic_number += 2\n    if atomic_number!=20 :\n        print(atomic_number, \"-\", element, end=\" , \")\n    else:\n        print(atomic_number, \"-\", element)\n        \n        \n                                            ####Or####",
      "execution_count": 7,
      "outputs": [
        {
          "output_type": "stream",
          "text": "2 - Helium , 4 - Beryllium , 6 - Carbon , 8 - Oxygen , 10 - Neon , 12 - Magnesium , 14 - Silicon , 16 - Sulfur , 18 - Argon , 20 - Calcium , ",
          "name": "stdout"
        }
      ]
    },
    {
      "metadata": {
        "trusted": true
      },
      "cell_type": "code",
      "source": "# the list, elements, contains the names of the first 20 elements in atomic number order\n# [ ] print the even number elements \"2 - Helium, 4 - Beryllium,..\" in the list with the atomic number\nelements = ['Hydrogen', 'Helium', 'Lithium', 'Beryllium', 'Boron', 'Carbon', 'Nitrogen', 'Oxygen', 'Fluorine', \\\n 'Neon', 'Sodium', 'Magnesium', 'Aluminum', 'Silicon', 'Phosphorus', 'Sulfur', 'Chlorine', 'Argon', \\\n 'Potassium', 'Calcium']\natomic_number = 0\nfor element in elements[1:20:2]:\n    atomic_number += 2\n    print(atomic_number, \"-\", element)\n       \n\n###But the 1st code is correct according to what they asked.All the Best Coding",
      "execution_count": null,
      "outputs": []
    },
    {
      "metadata": {
        "trusted": true
      },
      "cell_type": "code",
      "source": "                                    #*******************************#",
      "execution_count": null,
      "outputs": []
    },
    {
      "metadata": {
        "trusted": true
      },
      "cell_type": "code",
      "source": "# the list, elements, contains the names of the first 20 elements in atomic number order\n# [ ] print the even number elements \"2 - Helium, 4 - Beryllium,..\" in the list with the atomic number\nelements_40 = ['Hydrogen', \\\n 'Helium', 'Lithium', 'Beryllium', 'Boron', 'Carbon', 'Nitrogen', 'Oxygen', 'Fluorine', \\\n 'Neon', 'Sodium', 'Magnesium', 'Aluminum', 'Silicon', 'Phosphorus', 'Sulfur', 'Chlorine', \\\n 'Argon', 'Potassium', 'Calcium', 'Scandium', 'Titanium', 'Vanadium', 'Chromium', 'Manganese', \\\n 'Iron', 'Cobalt', 'Nickel', 'Copper', 'Zinc', 'Gallium', 'Germanium', 'Arsenic', 'Selenium', \\\n 'Bromine', 'Krypton', 'Rubidium', 'Strontium', 'Yttrium', 'Zirconium']\natomic_number = 0\nfor element in elements_40[0:40:2]:\n    atomic_number += 2\n    if atomic_number - 1 != 39:\n        print(atomic_number - 1, \"-\", element, end=\" , \")\n    else:\n        print(atomic_number - 1, \"-\", element)\n##Correct\n\n                                                                    ####Or####\n",
      "execution_count": 4,
      "outputs": [
        {
          "output_type": "stream",
          "text": "1 - Hydrogen , 3 - Lithium , 5 - Boron , 7 - Nitrogen , 9 - Fluorine , 11 - Sodium , 13 - Aluminum , 15 - Phosphorus , 17 - Chlorine , 19 - Potassium , 21 - Scandium , 23 - Vanadium , 25 - Manganese , 27 - Cobalt , 29 - Copper , 31 - Gallium , 33 - Arsenic , 35 - Bromine , 37 - Rubidium , 39 - Yttrium\n",
          "name": "stdout"
        }
      ]
    },
    {
      "metadata": {
        "trusted": true
      },
      "cell_type": "code",
      "source": "# [ ] the list, elements_40, contains the names of the first 40 elements in atomic number order\n# [ ] print the odd number elements \"1 - Hydrogen, 3 - Lithium,..\" in the list with the atomic number elements_40\n\n\n\nelements_40 = ['Hydrogen', \\\n 'Helium', 'Lithium', 'Beryllium', 'Boron', 'Carbon', 'Nitrogen', 'Oxygen', 'Fluorine', \\\n 'Neon', 'Sodium', 'Magnesium', 'Aluminum', 'Silicon', 'Phosphorus', 'Sulfur', 'Chlorine', \\\n 'Argon', 'Potassium', 'Calcium', 'Scandium', 'Titanium', 'Vanadium', 'Chromium', 'Manganese', \\\n 'Iron', 'Cobalt', 'Nickel', 'Copper', 'Zinc', 'Gallium', 'Germanium', 'Arsenic', 'Selenium', \\\n 'Bromine', 'Krypton', 'Rubidium', 'Strontium', 'Yttrium', 'Zirconium']\natomic_number = 0\nfor element in elements_40[0:40:2]:\n    atomic_number += 2\n    print(atomic_number-1, \"-\", element)\n                                    #Correct but not done what was asked to.ALl the Best",
      "execution_count": 3,
      "outputs": [
        {
          "output_type": "stream",
          "text": "1 - Hydrogen\n3 - Lithium\n5 - Boron\n7 - Nitrogen\n9 - Fluorine\n11 - Sodium\n13 - Aluminum\n15 - Phosphorus\n17 - Chlorine\n19 - Potassium\n21 - Scandium\n23 - Vanadium\n25 - Manganese\n27 - Cobalt\n29 - Copper\n31 - Gallium\n33 - Arsenic\n35 - Bromine\n37 - Rubidium\n39 - Yttrium\n",
          "name": "stdout"
        }
      ]
    },
    {
      "metadata": {},
      "cell_type": "markdown",
      "source": "# &nbsp;\n<font size=\"6\" color=\"#B24C00\"  face=\"verdana\"> <B>Task 4</B></font>\n## combine lists with `+` and `.extend()`"
    },
    {
      "metadata": {
        "trusted": true
      },
      "cell_type": "code",
      "source": "# [ ] print the combined lists (numbers_1 & numbers_2) using \"+\" operator\nnumbers_1 = [20, 21, 22, 23, 24, 25, 26, 27, 28, 29]\n\n# pythonic casting of a range into a list\nnumbers_2 = list(range(30,50,2))\n\nprint(\"numbers_1:\",numbers_1)\nprint(\"numbers_2\",numbers_2)\n\nprint(numbers_1 + numbers_2)",
      "execution_count": 1,
      "outputs": [
        {
          "output_type": "stream",
          "text": "numbers_1: [20, 21, 22, 23, 24, 25, 26, 27, 28, 29]\nnumbers_2 [30, 32, 34, 36, 38, 40, 42, 44, 46, 48]\n[20, 21, 22, 23, 24, 25, 26, 27, 28, 29, 30, 32, 34, 36, 38, 40, 42, 44, 46, 48]\n",
          "name": "stdout"
        }
      ]
    },
    {
      "metadata": {
        "trusted": true
      },
      "cell_type": "code",
      "source": "# [ ] print the combined element lists (first_row & second_row) using \".extend()\" method\nfirst_row = ['Hydrogen', 'Helium']\nsecond_row = ['Lithium', 'Beryllium', 'Boron', 'Carbon', 'Nitrogen', 'Oxygen', 'Fluorine', 'Neon']\n\nprint(\"1st Row:\", first_row)\nprint(\"2nd Row:\", second_row)\nfirst_row.extend(second_row)\nprint(first_row)",
      "execution_count": 2,
      "outputs": [
        {
          "output_type": "stream",
          "text": "1st Row: ['Hydrogen', 'Helium']\n2nd Row: ['Lithium', 'Beryllium', 'Boron', 'Carbon', 'Nitrogen', 'Oxygen', 'Fluorine', 'Neon']\n['Hydrogen', 'Helium', 'Lithium', 'Beryllium', 'Boron', 'Carbon', 'Nitrogen', 'Oxygen', 'Fluorine', 'Neon']\n",
          "name": "stdout"
        }
      ]
    },
    {
      "metadata": {},
      "cell_type": "markdown",
      "source": "## Project: Combine 3 element rows\nChoose to use **\"+\" or \".extend()\" **to build output similar to   \n\n```\nThe 1st three rows of the Period Table of Elements contain:\n['Hydrogen', 'Helium', 'Lithium', 'Beryllium', 'Boron', 'Carbon', 'Nitrogen', 'Oxygen', 'Fluorine', 'Neon', 'Sodium', 'Magnesium', 'Aluminum', 'Silicon', 'Phosphorus', 'Sulfur', 'Chlorine', 'Argon']\n\nThe row breakdown is\nRow 1: Hydrogen, Helium\nRow 2: Lithium, Beryllium, Boron, Carbon, Nitrogen, Oxygen, Fluorine, Neon\nRow 3: Sodium, Magnesium, Aluminum, Silicon, Phosphorus, Sulfur, Chlorine, Argon\n```"
    },
    {
      "metadata": {
        "trusted": true
      },
      "cell_type": "code",
      "source": "elem_1 = ['Hydrogen', 'Helium']\nelem_2 = ['Lithium', 'Beryllium', 'Boron', 'Carbon', 'Nitrogen', 'Oxygen', 'Fluorine', 'Neon']\nelem_3 = ['Sodium', 'Magnesium', 'Aluminum', 'Silicon', 'Phosphorus', 'Sulfur', 'Chlorine', 'Argon']\n\nprint(\"The 1st three rows of the Period Table of Elements contain:\",elem_1 + elem_2 + elem_3)\nprint(\"The row breakdown is:\\nRow 1:\", \", \".join(elem_1),\"\\nRow 2:\", \", \".join(elem_2),\"\\nRow 3:\", \", \".join(elem_3))",
      "execution_count": 1,
      "outputs": [
        {
          "output_type": "stream",
          "text": "The 1st three rows of the Period Table of Elements contain: ['Hydrogen', 'Helium', 'Lithium', 'Beryllium', 'Boron', 'Carbon', 'Nitrogen', 'Oxygen', 'Fluorine', 'Neon', 'Sodium', 'Magnesium', 'Aluminum', 'Silicon', 'Phosphorus', 'Sulfur', 'Chlorine', 'Argon']\nThe row breakdown is:\nRow 1: Hydrogen, Helium \nRow 2: Lithium, Beryllium, Boron, Carbon, Nitrogen, Oxygen, Fluorine, Neon \nRow 3: Sodium, Magnesium, Aluminum, Silicon, Phosphorus, Sulfur, Chlorine, Argon\n",
          "name": "stdout"
        }
      ]
    },
    {
      "metadata": {
        "trusted": false
      },
      "cell_type": "code",
      "source": "# [ ] .extend() jack_jill with \"next_line\" string - print the result\njack_jill = ['Jack', 'and', 'Jill', 'went', 'up', 'the', 'hill']\nnext_line = ['To', 'fetch', 'a', 'pail', 'of', 'water']\njack_jill.extend(next_line)\nprint(jack_jill)",
      "execution_count": null,
      "outputs": []
    },
    {
      "metadata": {},
      "cell_type": "markdown",
      "source": "# &nbsp;\n<font size=\"6\" color=\"#B24C00\"  face=\"verdana\"> <B>Task 5</B></font>\n## .reverse() : reverse a list in place"
    },
    {
      "metadata": {
        "trusted": false
      },
      "cell_type": "code",
      "source": "# [ ] use .reverse() to print elements starting with \"Calcium\", \"Chlorine\",... in reverse order\nelements = ['Hydrogen', 'Helium', 'Lithium', 'Beryllium', 'Boron', 'Carbon', 'Nitrogen', 'Oxygen', 'Fluorine', \\\n 'Neon', 'Sodium', 'Magnesium', 'Aluminum', 'Silicon', 'Phosphorus', 'Sulfur', 'Chlorine', 'Argon', \\\n 'Potassium', 'Calcium']\nelements.reverse()\nprint(\" , \".join(elements))",
      "execution_count": null,
      "outputs": []
    },
    {
      "metadata": {
        "trusted": true
      },
      "cell_type": "code",
      "source": "# [ ] reverse order of the list... Then print only words that are 8 characters or longer from the now reversed order\nspell_list = [\"Tuesday\", \"Wednesday\", \"February\", \"November\", \"Annual\", \"Calendar\", \"Solstice\"]\nspell_list.reverse()\nfor a in spell_list:\n    if len(a)>=8:\n        pass\n    else:\n        spell_list.remove(a)\nprint(spell_list)",
      "execution_count": 3,
      "outputs": [
        {
          "output_type": "stream",
          "text": "[2, 2, 2, 1, 2, 1, 3, 3, 1, 2, 2, 2, 2, 1, 3]\n[1, 1, 1, 1, 2, 2, 2, 2, 2, 2, 2, 2, 3, 3, 3]\n",
          "name": "stdout"
        }
      ]
    },
    {
      "metadata": {},
      "cell_type": "markdown",
      "source": "# &nbsp;\n<font size=\"6\" color=\"#B24C00\"  face=\"verdana\"> <B>Task 6</B></font>\n## .sort() and sorted()"
    },
    {
      "metadata": {
        "trusted": false
      },
      "cell_type": "code",
      "source": "# [ ] reverse order of the list... Then print only words that are 8 characters or longer from the now reversed order\nspell_list = [\"Tuesday\", \"Wednesday\", \"February\", \"November\", \"Annual\", \"Calendar\", \"Solstice\"]\nspell_list.reverse()\nfor a in spell_list:\n    if len(a)>=8:\n        pass\n    else:\n        spell_list.remove(a)\nprint(spell_list)",
      "execution_count": null,
      "outputs": []
    },
    {
      "metadata": {
        "trusted": true
      },
      "cell_type": "code",
      "source": "# [ ] print the list, numbers, sorted and then below print the original numbers list\nnumbers = [2,2,2,1,2,1,3,3,1,2,2,2,2,1,3]\na = sorted(numbers)\nprint(a)\nprint(numbers)",
      "execution_count": 5,
      "outputs": [
        {
          "output_type": "stream",
          "text": "[1, 1, 1, 1, 2, 2, 2, 2, 2, 2, 2, 2, 3, 3, 3]\n[2, 2, 2, 1, 2, 1, 3, 3, 1, 2, 2, 2, 2, 1, 3]\n",
          "name": "stdout"
        }
      ]
    },
    {
      "metadata": {},
      "cell_type": "markdown",
      "source": "# &nbsp;\n<font size=\"6\" color=\"#B24C00\"  face=\"verdana\"> <B>Task 7</B></font>\n## Converting a string to a list with `.split()`"
    },
    {
      "metadata": {
        "trusted": false
      },
      "cell_type": "code",
      "source": "# [ ] split the string, daily_fact, into a list of word strings: fact_words\n# [ ] print each string in fact_words in upper case on its own line\ndaily_fact = \"Did you know that there are 1.4 billion students in the world?\"\nfact_words = daily_fact.split()\nfor word in fact_words:\n    print(word.upper())",
      "execution_count": null,
      "outputs": []
    },
    {
      "metadata": {
        "trusted": false
      },
      "cell_type": "code",
      "source": "# [ ] convert the string, code_tip, into a list made from splitting on the letter \"o\"\ncode_tip =\"Read code aloud or explain the code step by step to a peer\"\na = list(code_tip.split(\"o\"))\nprint(a)",
      "execution_count": null,
      "outputs": []
    },
    {
      "metadata": {
        "trusted": false
      },
      "cell_type": "code",
      "source": "# [ ] split poem on \"b\" to create a list: poem_words\n# [ ] print poem_words by iterating the list\npoem = \"The bright brain, has bran!\"\npoem_words = list(poem.split(\"b\"))\nfor a in poem_words:\n    print(a)",
      "execution_count": null,
      "outputs": []
    },
    {
      "metadata": {},
      "cell_type": "markdown",
      "source": "# &nbsp;\n<font size=\"6\" color=\"#B24C00\"  face=\"verdana\"> <B>Task 8</B></font>\n## `.join()`\n### build a string from a list"
    },
    {
      "metadata": {
        "trusted": false
      },
      "cell_type": "code",
      "source": "# [ ] print a comma separated string output from the list of Halogen elements using \".join()\"\nhalogens = ['Chlorine', 'Florine', 'Bromine', 'Iodine']\nprint(\" ,\".join(halogens))",
      "execution_count": null,
      "outputs": []
    },
    {
      "metadata": {
        "trusted": true
      },
      "cell_type": "code",
      "source": "# [ ] split the sentence, code_tip, into a words list\n# [ ] print the joined words in the list with no spaces in-between\n# [ ] Bonus: capitalize each word in the list before .join()\ncode_tip =\"Read code aloud or explain the code step by step to a peer\"\nwords_list = list(code_tip.split())\nprint(words_list)\nprint(\"\".join(words_list))",
      "execution_count": 6,
      "outputs": [
        {
          "output_type": "stream",
          "text": "['Read', 'code', 'aloud', 'or', 'explain', 'the', 'code', 'step', 'by', 'step', 'to', 'a', 'peer']\nReadcodealoudorexplainthecodestepbysteptoapeer\n",
          "name": "stdout"
        }
      ]
    },
    {
      "metadata": {},
      "cell_type": "markdown",
      "source": "# &nbsp;\n<font size=\"6\" color=\"#B24C00\"  face=\"verdana\"> <B>Task 9</B></font>  \n## `list(string)` & `print(\"hello\",end=' ')`\n\n- **Cast a string to a list** \n- **print to the same line**   "
    },
    {
      "metadata": {
        "trusted": true
      },
      "cell_type": "code",
      "source": "# [ ] cast the long_word into individual letters list\n# [ ] print each letter on a line\nlong_word = 'decelerating'\na = list(long_word)\nfor b in a:\n    print(b,end= \"\\n\")",
      "execution_count": 7,
      "outputs": [
        {
          "output_type": "stream",
          "text": "d\ne\nc\ne\nl\ne\nr\na\nt\ni\nn\ng\n",
          "name": "stdout"
        }
      ]
    },
    {
      "metadata": {
        "trusted": true
      },
      "cell_type": "code",
      "source": "# [ ] use use end= in print to output each string in questions with a \"?\" and on new lines\nquestions = [\"What's the closest planet to the Sun\", \"How deep do Dolphins swim\", \"What time is it\"]\nfor a in questions:\n    print(a,end=\"?\\n\")",
      "execution_count": 8,
      "outputs": [
        {
          "output_type": "stream",
          "text": "What's the closest planet to the Sun?\nHow deep do Dolphins swim?\nWhat time is it?\n",
          "name": "stdout"
        }
      ]
    },
    {
      "metadata": {
        "trusted": true
      },
      "cell_type": "code",
      "source": "# [ ] print each item in foot bones\n#    - capitalized, both words if two word name\n#    - separated by a comma and space\n#    - and keeping on a single print line\n\nfoot_bones = [\"calcaneus\", \"talus\", \"cuboid\", \"navicular\", \"lateral cuneiform\",\n              \"intermediate cuneiform\", \"medial cuneiform\"]\ncap_bones = []\nfor bones in foot_bones:\n    cap_bones.append(bones.title())\n\nprint(', '.join(cap_bones))\n\n#For any query email me at aravind.saravu@gmail.com or follow me on twitter:@AravindKSaravu,github:AravindKSaravu.All the Best",
      "execution_count": 1,
      "outputs": [
        {
          "output_type": "stream",
          "text": "Calcaneus, Talus, Cuboid, Navicular, Lateral Cuneiform, Intermediate Cuneiform, Medial Cuneiform\n",
          "name": "stdout"
        }
      ]
    },
    {
      "metadata": {},
      "cell_type": "markdown",
      "source": "[Terms of use](http://go.microsoft.com/fwlink/?LinkID=206977) &nbsp; [Privacy & cookies](https://go.microsoft.com/fwlink/?LinkId=521839) &nbsp; © 2017 Microsoft"
    }
  ],
  "metadata": {
    "anaconda-cloud": {},
    "kernelspec": {
      "name": "python3",
      "display_name": "Python 3",
      "language": "python"
    },
    "language_info": {
      "mimetype": "text/x-python",
      "nbconvert_exporter": "python",
      "name": "python",
      "file_extension": ".py",
      "version": "3.5.4",
      "pygments_lexer": "ipython3",
      "codemirror_mode": {
        "version": 3,
        "name": "ipython"
      }
    }
  },
  "nbformat": 4,
  "nbformat_minor": 1
}