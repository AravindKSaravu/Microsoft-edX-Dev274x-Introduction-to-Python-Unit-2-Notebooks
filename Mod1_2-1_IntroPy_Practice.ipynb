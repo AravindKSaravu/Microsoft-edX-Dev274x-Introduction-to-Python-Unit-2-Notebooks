{
  "cells": [
    {
      "metadata": {},
      "cell_type": "markdown",
      "source": "# 2-1 Intro Python Practice\n## Sequence: String\n\n<font size=\"5\" color=\"#00A0B2\"  face=\"verdana\"> <B>Student will be able to</B></font>  \n- Work with String Characters\n- Slice strings into substrings\n- Iterate through String Characters\n- Use String ~~Tricks~~ Methods"
    },
    {
      "metadata": {},
      "cell_type": "markdown",
      "source": "# &nbsp;\n<font size=\"6\" color=\"#B24C00\"  face=\"verdana\"> <B>Task 1</B></font>\n##  Access String Characters \n### `working_string[index]`\n"
    },
    {
      "metadata": {
        "trusted": false
      },
      "cell_type": "code",
      "source": "# [ ] access and print the second character from planet_name: \"u\"\nplanet_name = \"Jupiter\"\nprint(planet_name[1])\n\n",
      "execution_count": null,
      "outputs": []
    },
    {
      "metadata": {
        "trusted": false
      },
      "cell_type": "code",
      "source": "# [ ] access and print the second character from planet_name: \"u\"\nplanet_name = \"Jupiter\"\nprint(planet_name[0])`\n",
      "execution_count": null,
      "outputs": []
    },
    {
      "metadata": {
        "trusted": false
      },
      "cell_type": "code",
      "source": "# [ ] access and print the second character from planet_name: \"u\"\nplanet_name = \"Jupiter\"\nprint(planet_name[-1])\n",
      "execution_count": null,
      "outputs": []
    },
    {
      "metadata": {
        "trusted": false
      },
      "cell_type": "code",
      "source": "# [ ] access and print the second character from planet_name: \"u\"\nplanet_name = \"Jupiter\"\nprint(planet_name[-7])\n",
      "execution_count": null,
      "outputs": []
    },
    {
      "metadata": {},
      "cell_type": "markdown",
      "source": "# &nbsp;\n<font size=\"6\" color=\"#B24C00\"  face=\"verdana\"> <B>Task 2</B></font>\n## slice\n### `working_string[start:stop]`\n### `working_string[start:stop:step]`"
    },
    {
      "metadata": {
        "trusted": true
      },
      "cell_type": "code",
      "source": "# [ ] print planet_name sliced into the first 3 characters and remaining characters\nplanet_name = \"Neptune\"\nprint(planet_name[:3],planet_name[3:])\n",
      "execution_count": 6,
      "outputs": [
        {
          "output_type": "stream",
          "text": "Nep tune\n",
          "name": "stdout"
        }
      ]
    },
    {
      "metadata": {
        "trusted": true
      },
      "cell_type": "code",
      "source": "# [ ] print 1st char and then every 3rd char of wise_words\n# use string slice with a step\nwise_words = 'Play it who opens'\nprint(wise_words[0::3])\n\n",
      "execution_count": 2,
      "outputs": [
        {
          "output_type": "stream",
          "text": "Python\n",
          "name": "stdout"
        }
      ]
    },
    {
      "metadata": {
        "trusted": true
      },
      "cell_type": "code",
      "source": "# [ ] print planet_name in reverse\n#planet_name = \"Neptune\"\nprint(planet_name[::-1])\n",
      "execution_count": 7,
      "outputs": [
        {
          "output_type": "stream",
          "text": "enutpeN\n",
          "name": "stdout"
        }
      ]
    },
    {
      "metadata": {
        "collapsed": true
      },
      "cell_type": "markdown",
      "source": "# &nbsp;\n<font size=\"6\" color=\"#B24C00\"  face=\"verdana\"> <B>Task 3</B></font>\n\n## iterate a String\n### `for letter in sentence:`"
    },
    {
      "metadata": {
        "trusted": true
      },
      "cell_type": "code",
      "source": "# [ ] Get user input for 1 fav_food\n# [ ] iterate through letters in fav_food \n#    - print each letter on a new line\nfav_food = input(\"One of your Favorite food:\")\nfor letters in fav_food:\n    print(letters)\n\n\n\n",
      "execution_count": null,
      "outputs": []
    },
    {
      "metadata": {
        "trusted": true
      },
      "cell_type": "code",
      "source": "# [ ] iterate work_tip string concatenate each letter to variable: new_string \n# [ ] concatenate the letter or a \"-\" instead of a space \" \"\n# tip: concatenate string example: word = word + \"a\"\nwork_tip = \"Good code is commented code\"\n\nnew_string = ''\n\nfor ltr in work_tip:\n    if ltr != ' ':\n        new_string += ltr\n    else:\n        new_string += '-'\n\nprint(new_string)",
      "execution_count": 1,
      "outputs": [
        {
          "output_type": "stream",
          "text": "Good-code-is-commented-code\n",
          "name": "stdout"
        }
      ]
    },
    {
      "metadata": {
        "trusted": true
      },
      "cell_type": "code",
      "source": "# [ ] Print the first 4 letters of name on new line\nname = \"Hiroto\"\nprint(name[:4])\n\n",
      "execution_count": 8,
      "outputs": [
        {
          "output_type": "stream",
          "text": "Hiro\n",
          "name": "stdout"
        }
      ]
    },
    {
      "metadata": {
        "trusted": false
      },
      "cell_type": "code",
      "source": "# [ ] Print every other letter from 2nd to last letter of name \nname = \"Hiroto\"\nprint(name[2::1])\n\n",
      "execution_count": null,
      "outputs": []
    },
    {
      "metadata": {},
      "cell_type": "markdown",
      "source": "# &nbsp;\n<font size=\"6\" color=\"#B24C00\"  face=\"verdana\"> <B>Task 4</B></font>\n\n## Program: Mystery Name\n- get user input for first_name\n- create an empty string variable: new_name\n- iterate through letters in first_name Backwards \n  - add each letter to new_name as you iterate\n  - Replace the letter if \"e\", \"t\" or \"a\" with \"?\" *(hint: if, elif, elif, else)*\n- print new_name  \n\n**example: \"Alton\" = \"no?l?\"**"
    },
    {
      "metadata": {
        "trusted": true
      },
      "cell_type": "code",
      "source": "# [ ] Create Mystery Name\nfirst_name = input(\"You first name:\")\nnew_name = \" \"\nfor letters in first_name[::-1].lower():\n    if letters == \"e\":\n        new_name += \"?\"\n    elif letters == \"t\":\n        new_name += \"?\"\n    elif letters == \"a\":\n        new_name += \"?\"\n    else:\n        new_name += letters\nprint(new_name)\n\n",
      "execution_count": 1,
      "outputs": [
        {
          "output_type": "stream",
          "name": "stdout",
          "text": "You first name:Aravind\n dniv?r?\n"
        }
      ]
    },
    {
      "metadata": {},
      "cell_type": "markdown",
      "source": "# &nbsp;\n<font size=\"6\" color=\"#B24C00\"  face=\"verdana\"> <B>Task 4</B></font>\n## `len(), .find(), .count()`   \n\n```  \n- len(working_string)\n- .find(\"i\")\n- .find(\"i\",start)\n- .find(\"i\", start, end)\n- .count(\"i\")\n- .count(\"i\", start)\n- .count(\"i\", start, end)\n```   "
    },
    {
      "metadata": {
        "trusted": true
      },
      "cell_type": "code",
      "source": "# [ ] find and display the length of the string: topic\ntopic = \"len() returns the length of a string\"\nprint(len(topic))\n\n",
      "execution_count": 3,
      "outputs": [
        {
          "output_type": "stream",
          "text": "36\n",
          "name": "stdout"
        }
      ]
    },
    {
      "metadata": {
        "trusted": false
      },
      "cell_type": "code",
      "source": "# [ ] use len() to find and display the mid_pt (middle) index (+/- 1) of the string: topic\n# note: index values are whole numbers\ntopic = \"len() can take a sequence, like a string, as an argument\"\nmid_pt = int(len(topic)/2)\nprint(mid_pt)",
      "execution_count": null,
      "outputs": []
    },
    {
      "metadata": {
        "trusted": false
      },
      "cell_type": "code",
      "source": "# [ ] print index where first instance of the word  \"code\" starts using .find()\nwork_tip = \"Good code is commented code\"\nprint(work_tip.find(\"code\"))\n",
      "execution_count": null,
      "outputs": []
    },
    {
      "metadata": {
        "trusted": false
      },
      "cell_type": "code",
      "source": "# [ ] search for \"code\" in code_tip using .find() \n# [ ] search substring with substring index start= 13,end = last char\n# [ ] save result in variable: code_index\n# [ ] display index of where \"code\" is found, or print \"not found\" if code_index == -1\n\ncode_tip = \"Good code is commented code\"\ncode_index = code_tip.find(\"code\", 13, 27)\nprint(code_index)\n\n# It's not word_tip it is code_tip, If not changed it is not possible. Please make the required changes to tackle the code. All the Best👍",
      "execution_count": null,
      "outputs": []
    },
    {
      "metadata": {
        "collapsed": true
      },
      "cell_type": "markdown",
      "source": "# &nbsp;\n<font size=\"6\" color=\"#B24C00\"  face=\"verdana\"> <B>Task 5</B></font>"
    },
    {
      "metadata": {
        "trusted": true
      },
      "cell_type": "code",
      "source": "# [ ] find and report (print) number of w's, o's + use of word \"code\"\nwork_tip = \"Good code is commented code\"\na = work_tip.count(\"w\")\nb = work_tip.count(\"o\")\nc = work_tip.count(\"code\")\nprint(\"W's was used\",a,\"number of times,\\nThe Number of O's + number of word 'code' are:\",b+c)",
      "execution_count": 2,
      "outputs": [
        {
          "output_type": "stream",
          "text": "W's was used 0 number of times,\nThe Number of O's + number of word 'code' are: 7\n",
          "name": "stdout"
        }
      ]
    },
    {
      "metadata": {
        "trusted": false
      },
      "cell_type": "code",
      "source": "# [ ]  count times letter \"i\" appears in code_tip string\n# [ ] find and display the index of all the letter i's in code_tip\n# Remember: if .find(\"i\") has No Match, -1 is returned\ncode_tip = \"code a conditional decision like you would say it\"\nprint (\"code_tip:\" , code_tip)\nprint(code_tip.count(\"i\"))\na = code_tip.find(\"i\",0,12)\nb = code_tip.find(\"i\",12,15)\nc = code_tip.find(\"i\",15,23)\nd = code_tip.find(\"i\",23,28)\ne = code_tip.find(\"i\",28,45)\nf = code_tip.find(\"i\",45,49)\nprint(a,b,c,d,e,f)\n# 11 13 22 24 29 47\n\n\n\n\n",
      "execution_count": null,
      "outputs": []
    },
    {
      "metadata": {},
      "cell_type": "markdown",
      "source": "# &nbsp;\n<font size=\"6\" color=\"#B24C00\"  face=\"verdana\"> <B>Task 6</B></font>\n\n## Program: Words after \"G\"/\"g\"\nCreate a program inputs a phrase (like a famous quotation) and prints all of the words that start with h-z\n\nSample input:  \n`enter a 1 sentence quote, non-alpha separate words:` **`Wheresoever you go, go with all your heart`**  \n\nSample output:\n```\nWHERESOEVER\nYOU\nWITH\nYOUR\nHEART\n```\n- split the words by building a placeholder variable: **`word`**  \n  - loop each character in the input string  \n  - check if character is a letter  \n  - add a letter to **`word`** each loop until a non-alpha char is encountered  \n\n- **if** character is alpha \n  - add character to **`word`**    \n  - non-alpha detected (space, punctuation, digit,...) defines the end of a word and goes to **`else`**    \n- **`else`**  \n  - check **`if`** word is greater than \"g\" alphabetically\n      - print word \n      - set word = empty string\n  - or **else** \n    - set word = empty string and build the next word  \n\nHint: use `.lower()`"
    },
    {
      "metadata": {
        "trusted": true
      },
      "cell_type": "code",
      "source": "# [] create words after \"G\"\n# sample quote \"Wheresoever you go, go with all your heart\" ~ Confucius (551 BC - 479 BC)\nphrase = input(\" Please input a famous quotation with all words and start with h-z: \").lower()\nword = \"\"\nphrase = '\"' + phrase + '\"'\nfor letter in phrase:\n    if letter.isalpha():\n        word +=letter\n    else:\n        if word.lower() >= \"h\":\n            print(word.upper())\n            word = \"\"\n        else:\n            word = \"\"",
      "execution_count": 4,
      "outputs": [
        {
          "output_type": "stream",
          "name": "stdout",
          "text": " Please input a famous quotation with all words and start with h-z: Wheresoever you go, go with all your heart\" ~ Confucius (551 BC - 479 BC)\nWHERESOEVER\nYOU\nWITH\nYOUR\nHEART\n"
        }
      ]
    },
    {
      "metadata": {
        "collapsed": true
      },
      "cell_type": "markdown",
      "source": "[Terms of use](http://go.microsoft.com/fwlink/?LinkID=206977) &nbsp; [Privacy & cookies](https://go.microsoft.com/fwlink/?LinkId=521839) &nbsp; © 2017 Microsoft"
    }
  ],
  "metadata": {
    "anaconda-cloud": {},
    "kernelspec": {
      "name": "python3",
      "display_name": "Python 3",
      "language": "python"
    },
    "language_info": {
      "mimetype": "text/x-python",
      "nbconvert_exporter": "python",
      "name": "python",
      "pygments_lexer": "ipython3",
      "version": "3.5.4",
      "file_extension": ".py",
      "codemirror_mode": {
        "version": 3,
        "name": "ipython"
      }
    }
  },
  "nbformat": 4,
  "nbformat_minor": 1
}