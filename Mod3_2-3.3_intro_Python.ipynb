{
  "cells": [
    {
      "metadata": {},
      "cell_type": "markdown",
      "source": "# 2-3.3 Intro Python\n# The Power of List Iteration\n- for in: **`for`** loop using **`in`**\n- for range: **`for range(start,stop,step)`** \n- **more list methods: `.extend()`, `+, .reverse(), .sort()`**   \n- strings to lists, **`.split()`**, and list to strings, **`.join()`**     \n\n\n----- \n\n><font size=\"5\" color=\"#00A0B2\"  face=\"verdana\"> <B>Student will be able to</B></font>  \n- Iterate through Lists using **`for`** with **`in`**\n- Use **`for range()`** in looping operations \n- **Use list methods `.extend()`, `+, .reverse(), .sort()`**  \n- convert between lists and strings using  **`.split()`** and **`.join()`**"
    },
    {
      "metadata": {},
      "cell_type": "markdown",
      "source": "# &nbsp;\n<font size=\"6\" color=\"#00A0B2\"  face=\"verdana\"> <B>Concepts</B></font>\n## Combine Lists\n[![view video](https://iajupyterprodblobs.blob.core.windows.net/imagecontainer/common/play_video.png)](http://edxinteractivepage.blob.core.windows.net/edxpages/f7cff1a7-5601-48a1-95a6-fd1fdfabd20e.html?details=[{\"src\":\"http://jupyternootbookwams.streaming.mediaservices.windows.net/249a8d33-1e69-47e1-ab59-a8cf93f3fa8b/Unit2_Section3.3a_concatenate_lists.ism/manifest\",\"type\":\"application/vnd.ms-sstr+xml\"}],[{\"src\":\"http://jupyternootbookwams.streaming.mediaservices.windows.net/249a8d33-1e69-47e1-ab59-a8cf93f3fa8b/Unit2_Section3.3a_concatenate_lists.vtt\",\"srclang\":\"en\",\"kind\":\"subtitles\",\"label\":\"english\"}])\n## `+`  list addition\n##  `.extend()` list method   \n\n### combine lists with `+` and `.extend()`\n```python\nvisited_cities = [\"New York\", \"Shanghai\", \"Munich\", \"Toyko\", \"Dubai\", \"Mexico City\", \"São Paulo\", \"Hyderabad\"]\nwish_cities = [\"Reykjavík\", \"Moscow\", \"Beijing\", \"Lamu\"]\n# combine in a new list\nall_cities = visited_cities + wish_cities\n\n# add a list to an existing list\nvisitied_cities.extend(wish_cities)\n```"
    },
    {
      "metadata": {},
      "cell_type": "markdown",
      "source": "# &nbsp;\n<font size=\"6\" color=\"#00A0B2\"  face=\"verdana\"> <B>Examples</B></font>"
    },
    {
      "metadata": {
        "trusted": true
      },
      "cell_type": "code",
      "source": "# [ ] review and run example\nvisited_cities = [\"New York\", \"Shanghai\", \"Munich\", \"Toyko\", \"Dubai\", \"Mexico City\", \"São Paulo\", \"Hyderabad\"]\nwish_cities = [\"Reykjavík\", \"Moscow\", \"Beijing\", \"Lamu\"]\n\n# .extend() \n# extending visited_cities list (IN PLACE) by concatenating wish_cities\nvisited_cities.extend(wish_cities)\nprint(\"ALL CITIES\",visited_cities)",
      "execution_count": null,
      "outputs": []
    },
    {
      "metadata": {
        "trusted": true
      },
      "cell_type": "code",
      "source": "# [ ] review and run example\nvisited_cities = [\"New York\", \"Shanghai\", \"Munich\", \"Toyko\", \"Dubai\", \"Mexico City\", \"São Paulo\", \"Hyderabad\"]\nwish_cities = [\"Reykjavík\", \"Moscow\", \"Beijing\", \"Lamu\"]\n\n# (+) Addition operator for lists creates a (NEW) combined List\nall_cities = visited_cities + wish_cities\n\nprint(\"ALL CITIES\")\nfor city in all_cities:\n    print(city)",
      "execution_count": null,
      "outputs": []
    },
    {
      "metadata": {
        "trusted": true
      },
      "cell_type": "code",
      "source": "# [ ] review and run example\nteam_a = [0,2,2,2,4,4,4,5,6,6,6]\nteam_b = [0,0,0,1,1,2,3,3,3,6,8]\nprint(\"Team A:\", team_a, \"\\nTeam B:\",team_b)\n\n# (+) Addition operator \nteam_totals = team_a + team_b\nprint(\"Team Totals\", team_totals)",
      "execution_count": null,
      "outputs": []
    },
    {
      "metadata": {
        "trusted": true
      },
      "cell_type": "code",
      "source": "# [ ] review and run example after running cell above\n# .extend() \nteam_a.extend(team_b)\nprint(\"Team_a extended\", team_a)\n\n# what happens if you keep running this cell?",
      "execution_count": null,
      "outputs": []
    },
    {
      "metadata": {
        "collapsed": true
      },
      "cell_type": "markdown",
      "source": "# &nbsp;\n<font size=\"6\" color=\"#B24C00\"  face=\"verdana\"> <B>Task 1</B></font>\n\n### combine lists"
    },
    {
      "metadata": {
        "trusted": true
      },
      "cell_type": "code",
      "source": "# [ ] extend the list common_birds with list birds_seen which you must create\ncommon_birds = [\"chicken\", \"blue jay\", \"crow\", \"pigeon\"]\nbirds_seen = [\"Goose\",\"Parrot\",\"Ostrich\"]\ncommon_birds.extend(birds_seen)\nprint(common_birds)",
      "execution_count": null,
      "outputs": []
    },
    {
      "metadata": {
        "trusted": true
      },
      "cell_type": "code",
      "source": "# [ ] Create 2 lists zero_nine and ten_onehundred that contain 1-9, and 10 - 100 by 10's.\n# [ ] use list addition to concatenate the lists into all_num and print\nzero_nine = []\nten_onehundred = []\nzero_nine = list(range(1,10))\nten_onehundred = list(range(10,101,10))\na = zero_nine + ten_onehundred\nprint(a)\n",
      "execution_count": null,
      "outputs": []
    },
    {
      "metadata": {},
      "cell_type": "markdown",
      "source": "# &nbsp;\n<font size=\"6\" color=\"#00A0B2\"  face=\"verdana\"> <B>Concepts</B></font>\n## .reverse() : reverse a list in place\n[![view video](https://iajupyterprodblobs.blob.core.windows.net/imagecontainer/common/play_video.png)](http://edxinteractivepage.blob.core.windows.net/edxpages/f7cff1a7-5601-48a1-95a6-fd1fdfabd20e.html?details=[{\"src\":\"http://jupyternootbookwams.streaming.mediaservices.windows.net/cde2807d-9151-4515-aa05-e83640c57712/Unit2_Section3.3b_reverse_lists.ism/manifest\",\"type\":\"application/vnd.ms-sstr+xml\"}],[{\"src\":\"http://jupyternootbookwams.streaming.mediaservices.windows.net/cde2807d-9151-4515-aa05-e83640c57712/Unit2_Section3.3b_reverse_lists.vtt\",\"srclang\":\"en\",\"kind\":\"subtitles\",\"label\":\"english\"}])\n\n```python\ncities_1 = [\"Dubai\", \"Mexico City\", \"São Paulo\", \"Hyderabad\"]\n\nprint(\"regular\", cities_1)\ncities_1.reverse()\nprint(\"reversed\", cities_1)\n```\n"
    },
    {
      "metadata": {},
      "cell_type": "markdown",
      "source": "### &nbsp;\n<font size=\"6\" color=\"#00A0B2\"  face=\"verdana\"> <B>Examples</B></font>"
    },
    {
      "metadata": {
        "trusted": true
      },
      "cell_type": "code",
      "source": "# [ ] review and run example\ncities_1 = [\"Dubai\", \"Mexico City\", \"São Paulo\", \"Hyderabad\"]\n\nprint(\"regular\", cities_1)\ncities_1.reverse()\nprint(\"reversed\", cities_1)",
      "execution_count": null,
      "outputs": []
    },
    {
      "metadata": {
        "trusted": true
      },
      "cell_type": "code",
      "source": "# [ ] review and run example\nall_num = [0, 1, 2, 3, 4, 5, 6, 7, 8, 9, 10, 20, 30, 40, 50, 60, 70, 80, 90, 100]\nprint(\"regular list\",all_num, \"\\n\")\nall_num.reverse()\nprint(\"reverse list\",all_num, \"\\n\")\nnum_len = len(all_num)\n\nprint(\"Three Multiple\")\nfor num in all_num:\n    if num/3 == int(num/3):\n        print(num)\n    else:\n        pass\n    ",
      "execution_count": null,
      "outputs": []
    },
    {
      "metadata": {
        "trusted": true
      },
      "cell_type": "code",
      "source": "# [ ] review and run example\n# create a list of  numbers by casting a range \ncount_list = list(range(21))\nprint(\"before list\", count_list)\n\n# and reverse\ncount_list.reverse()\nprint(\"after list\", count_list)",
      "execution_count": null,
      "outputs": []
    },
    {
      "metadata": {
        "collapsed": true
      },
      "cell_type": "markdown",
      "source": "# &nbsp;\n<font size=\"6\" color=\"#B24C00\"  face=\"verdana\"> <B>Task 2</B></font>\n\n## .reverse()"
    },
    {
      "metadata": {
        "trusted": true
      },
      "cell_type": "code",
      "source": "# [ ] create and  print a list of multiples of 5 from 5 to 100\n# { ] reverse the list and print\nmultiple5 = list(range(5, 101, 5))\nmultiple5.reverse()\nprint(multiple5)",
      "execution_count": null,
      "outputs": []
    },
    {
      "metadata": {
        "trusted": true
      },
      "cell_type": "code",
      "source": "# [ ] Create two lists: fours & more_fours containing multiples of four from 4 to 44\n# [ ] combine and print so that the output is mirrored [44, 40,...8, 4, 4, 8, ...40, 44]\nfour = []\nmore_four = []\nfour = list(range(4,45,4))\nmore_four = list(range(4,45,4))\nfour.reverse()\na = four + more_four\nprint(a)",
      "execution_count": null,
      "outputs": []
    },
    {
      "metadata": {},
      "cell_type": "markdown",
      "source": "# &nbsp;\n<font size=\"6\" color=\"#00A0B2\"  face=\"verdana\"> <B>Concepts</B></font>  \n\n## .sort() and sorted()\n[![view video](https://iajupyterprodblobs.blob.core.windows.net/imagecontainer/common/play_video.png)](http://edxinteractivepage.blob.core.windows.net/edxpages/f7cff1a7-5601-48a1-95a6-fd1fdfabd20e.html?details=[{\"src\":\"http://jupyternootbookwams.streaming.mediaservices.windows.net/375c6bd9-9f91-4a3c-9a67-c01c35ea64ff/Unit2_Section3.3c_sort_sorted.ism/manifest\",\"type\":\"application/vnd.ms-sstr+xml\"}],[{\"src\":\"http://jupyternootbookwams.streaming.mediaservices.windows.net/375c6bd9-9f91-4a3c-9a67-c01c35ea64ff/Unit2_Section3.3c_Sort_Sorted.vtt\",\"srclang\":\"en\",\"kind\":\"subtitles\",\"label\":\"english\"}])\n\n \n\n### .sort() in place  \n**.sort()** - orders a list in place \n```python\nquiz_scores = [20, 19, 20, 15, 20, 20, 20, 18, 18, 18, 19]\nquiz_scores.sort()\n```  \n\n### sorted() copy\n**sorted()** - creates an ordered list copy \n```python\ngame_points = [3, 14, 0, 8, 21, 1, 3, 8]\nsorted_points = sorted(game_points)\n```"
    },
    {
      "metadata": {},
      "cell_type": "markdown",
      "source": "# &nbsp;\n<font size=\"6\" color=\"#00A0B2\"  face=\"verdana\"> <B>Examples</B></font>  \n### .sort() and sorted()"
    },
    {
      "metadata": {
        "trusted": true
      },
      "cell_type": "code",
      "source": "# [ ] review and run example\nquiz_scores = [20, 19, 20, 15, 20, 20, 20, 18, 18, 18, 19]\n\n# use .sort()\nquiz_scores.sort()\n\nprint(\"quiz_scores:\", quiz_scores)",
      "execution_count": null,
      "outputs": []
    },
    {
      "metadata": {
        "trusted": true
      },
      "cell_type": "code",
      "source": "# [ ] review and run example\ngame_points = [3, 14, 0, 8, 21, 1, 3, 8]\n\n# use sorted()\nsorted_points = sorted(game_points)\n\nprint(\"game_points:\", game_points)\nprint(\"sorted_points:\", sorted_points)",
      "execution_count": null,
      "outputs": []
    },
    {
      "metadata": {
        "trusted": true
      },
      "cell_type": "code",
      "source": "# [ ] review and run example\ncities_1 = [\"Dubai\", \"Mexico City\", \"São Paulo\", \"Hyderabad\"]\n\nprint(\"Unsorted\", cities_1)\ncities_1.sort()\nprint(\"Sorted\", cities_1)",
      "execution_count": null,
      "outputs": []
    },
    {
      "metadata": {
        "collapsed": true
      },
      "cell_type": "markdown",
      "source": "# &nbsp;\n<font size=\"6\" color=\"#B24C00\"  face=\"verdana\"> <B>Task 3</B></font>  \n## .sort() & sorted()"
    },
    {
      "metadata": {
        "trusted": true
      },
      "cell_type": "code",
      "source": "# [ ] print cites from visited_cities list in alphbetical order using .sort()\n# [ ] only print cities that names start \"Q\" or earlier\nvisited_cities = [\"New York\", \"Shanghai\", \"Munich\", \"Toyko\", \"Dubai\", \"Mexico City\", \"São Paulo\", \"Hyderabad\"]\nvisited_cities.sort()\nfor a in visited_cities:\n    if a <=\"Q\":\n        print(a)\n    else:\n        pass",
      "execution_count": null,
      "outputs": []
    },
    {
      "metadata": {
        "trusted": true
      },
      "cell_type": "code",
      "source": "# [ ] make a sorted copy (sorted_cities) of visited_cities list\n# [ ] remove city names 5 characters or less from sorted_cities\n# [ ] print visitied cites and sorted cities\nvisited_cities = [\"New York\", \"Shanghai\", \"Munich\", \"Toyko\", \"Dubai\", \"Mexico City\", \"São Paulo\", \"Hyderabad\"]\n\nsorted_cities = sorted(visited_cities)\nfor a in sorted_cities:\n    if int(len(a)) <= 5:\n        sorted_cities.remove(a)\n    else:\n        pass\nprint(\"Visited Cities:\",visited_cities,\"\\nSorted Cities:\",sorted_cities)",
      "execution_count": null,
      "outputs": []
    },
    {
      "metadata": {
        "collapsed": true
      },
      "cell_type": "markdown",
      "source": "# &nbsp;\n<font size=\"6\" color=\"#B24C00\"  face=\"verdana\"> <B>Task 4</B></font>  \n## Program: Merge & Sort Animals\nCreate a program that \n- takes user to build a list: add_animals \n- merges add_anmials with exisiting list: anmimals\n- provides a sorted list to view in alpa or reverse alpha order"
    },
    {
      "metadata": {},
      "cell_type": "markdown",
      "source": "\n<font size=\"4\" color=\"#B24C00\"  face=\"verdana\"> <B>step 1 </B></font> get user input to build add_animals list\n"
    },
    {
      "metadata": {
        "trusted": true
      },
      "cell_type": "code",
      "source": "# [ ] build a list (add_animals) using a while loop, stop adding when an empty string is entered\nadd_animals = []\nwhile True:\n    a = input(\"Enter a animals name:\")\n    if a == \" \" or a.isalpha() == False:\n        print(\"Thank you!Program has ended!\")\n        break\n    else:\n        add_animals.append(a)\n",
      "execution_count": 2,
      "outputs": [
        {
          "output_type": "stream",
          "name": "stdout",
          "text": "Enter a animals name:Donkey\nEnter a animals name:Monkey\nEnter a animals name:Hen\nEnter a animals name:\nThank you!Program has ended!\n"
        }
      ]
    },
    {
      "metadata": {},
      "cell_type": "markdown",
      "source": "\n<font size=\"4\" color=\"#B24C00\"  face=\"verdana\"> <B>step 2 </B></font> Merge the lists: add_animals into animals\n"
    },
    {
      "metadata": {
        "trusted": true
      },
      "cell_type": "code",
      "source": "# [ ] extend the lists into animals, then sort \nanimals = [\"Chimpanzee\", \"Panther\", \"Wolf\", \"Armadillo\"]\nanimals.extend(add_animals)\nprint(animals)",
      "execution_count": 5,
      "outputs": [
        {
          "output_type": "stream",
          "text": "['Chimpanzee', 'Panther', 'Wolf', 'Armadillo', 'Donkey', 'Monkey', 'Hen']\n",
          "name": "stdout"
        }
      ]
    },
    {
      "metadata": {},
      "cell_type": "markdown",
      "source": "\n<font size=\"4\" color=\"#B24C00\"  face=\"verdana\"> <B>step 3 </B></font> Allow animals list to be viewed alpha or reverse alpha order\n"
    },
    {
      "metadata": {
        "trusted": true
      },
      "cell_type": "code",
      "source": "# [ ] get input if list should be viewed alpha or reverse alpha and display list\nanimals.sort()\nprint(animals)",
      "execution_count": 6,
      "outputs": [
        {
          "output_type": "stream",
          "text": "['Armadillo', 'Chimpanzee', 'Donkey', 'Hen', 'Monkey', 'Panther', 'Wolf']\n",
          "name": "stdout"
        }
      ]
    },
    {
      "metadata": {
        "trusted": true
      },
      "cell_type": "code",
      "source": "animals.reverse()\nprint(animals)",
      "execution_count": 7,
      "outputs": [
        {
          "output_type": "stream",
          "text": "['Wolf', 'Panther', 'Monkey', 'Hen', 'Donkey', 'Chimpanzee', 'Armadillo']\n",
          "name": "stdout"
        }
      ]
    },
    {
      "metadata": {
        "collapsed": true
      },
      "cell_type": "markdown",
      "source": "[Terms of use](http://go.microsoft.com/fwlink/?LinkID=206977) &nbsp; [Privacy & cookies](https://go.microsoft.com/fwlink/?LinkId=521839) &nbsp; © 2017 Microsoft"
    }
  ],
  "metadata": {
    "anaconda-cloud": {},
    "kernelspec": {
      "name": "python3",
      "display_name": "Python 3",
      "language": "python"
    },
    "language_info": {
      "mimetype": "text/x-python",
      "nbconvert_exporter": "python",
      "name": "python",
      "pygments_lexer": "ipython3",
      "version": "3.5.4",
      "file_extension": ".py",
      "codemirror_mode": {
        "version": 3,
        "name": "ipython"
      }
    }
  },
  "nbformat": 4,
  "nbformat_minor": 1
}